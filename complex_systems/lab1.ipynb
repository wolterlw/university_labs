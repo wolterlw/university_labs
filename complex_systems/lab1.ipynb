{
 "cells": [
  {
   "cell_type": "code",
   "execution_count": 1,
   "metadata": {
    "ExecuteTime": {
     "end_time": "2018-04-02T11:45:59.550362Z",
     "start_time": "2018-04-02T11:45:59.163663Z"
    }
   },
   "outputs": [],
   "source": [
    "import numpy as np\n",
    "from scipy.integrate import odeint, ode\n",
    "import matplotlib.pyplot as plt\n",
    "from matplotlib import rcParams\n",
    "import ipywidgets as widgets\n",
    "%matplotlib inline\n",
    "\n",
    "rcParams['figure.figsize'] = [15,5]"
   ]
  },
  {
   "cell_type": "code",
   "execution_count": 2,
   "metadata": {
    "ExecuteTime": {
     "end_time": "2018-04-02T11:46:01.155913Z",
     "start_time": "2018-04-02T11:46:01.141350Z"
    }
   },
   "outputs": [],
   "source": [
    "def plotFergulst(N0,mu,k):\n",
    "    \n",
    "    model = lambda N,t,mu,k: mu * N * (k - N)\n",
    "    \n",
    "    t = np.linspace(0, 12, 1000)\n",
    "    \n",
    "    N = odeint(model, N0, t, args=(mu, k))\n",
    "\n",
    "    plt.plot(t, N)\n",
    "    plt.xlabel('t', fontsize=15)\n",
    "    plt.ylabel('N(t)', fontsize=15)\n",
    "    plt.grid()\n",
    "    plt.xlim(0,12)\n",
    "    plt.ylim(2,20)\n",
    "    plt.show()"
   ]
  },
  {
   "cell_type": "code",
   "execution_count": 3,
   "metadata": {
    "ExecuteTime": {
     "end_time": "2018-04-02T11:46:01.791687Z",
     "start_time": "2018-04-02T11:46:01.776820Z"
    }
   },
   "outputs": [],
   "source": [
    "def plotSolou(k0,s,a,mu,q,alpha):\n",
    "    def model(k, t, s, a, mu, q, alpha):\n",
    "        dydt = s * a * k**alpha - (mu + q) * k\n",
    "        return dydt\n",
    "\n",
    "    t = np.linspace(0, 40, 100)\n",
    "\n",
    "    k = odeint(model, k0, t, args=(s, a, mu, q, alpha))\n",
    "\n",
    "    plt.plot(t, k)\n",
    "    plt.xlabel('t')\n",
    "    plt.ylabel('k(t)')\n",
    "    plt.grid()\n",
    "    plt.xlim(0,40)\n",
    "    plt.ylim(0,4)\n",
    "    plt.show()"
   ]
  },
  {
   "cell_type": "markdown",
   "metadata": {},
   "source": [
    "### модель Фергюльста динаміки росту популяцій\n",
    "\n",
    "## $$\\dot{N} = r N (k - N)$$\n",
    "\n",
    "N – чисельність популяції,  \n",
    "r – коефіцієнти народжуваності (приріст популяції за одиницю часу),  \n",
    "k – ємність середовища (гранична чисельність популяції),  \n",
    "N0 – початкова чисельність популяції.  "
   ]
  },
  {
   "cell_type": "code",
   "execution_count": 4,
   "metadata": {
    "ExecuteTime": {
     "end_time": "2018-04-02T11:46:03.750324Z",
     "start_time": "2018-04-02T11:46:03.396245Z"
    }
   },
   "outputs": [
    {
     "data": {
      "application/vnd.jupyter.widget-view+json": {
       "model_id": "336bb0f72987499e9190c891bb5ac6ce",
       "version_major": 2,
       "version_minor": 0
      },
      "text/html": [
       "<p>Failed to display Jupyter Widget of type <code>interactive</code>.</p>\n",
       "<p>\n",
       "  If you're reading this message in the Jupyter Notebook or JupyterLab Notebook, it may mean\n",
       "  that the widgets JavaScript is still loading. If this message persists, it\n",
       "  likely means that the widgets JavaScript library is either not installed or\n",
       "  not enabled. See the <a href=\"https://ipywidgets.readthedocs.io/en/stable/user_install.html\">Jupyter\n",
       "  Widgets Documentation</a> for setup instructions.\n",
       "</p>\n",
       "<p>\n",
       "  If you're reading this message in another frontend (for example, a static\n",
       "  rendering on GitHub or <a href=\"https://nbviewer.jupyter.org/\">NBViewer</a>),\n",
       "  it may mean that your frontend doesn't currently support widgets.\n",
       "</p>\n"
      ],
      "text/plain": [
       "interactive(children=(IntSlider(value=5, description=u'N0', max=10, min=1), FloatSlider(value=0.505, description=u'mu', max=1.0, min=0.01), IntSlider(value=15, description=u'k', max=30, min=1), Output()), _dom_classes=('widget-interact',))"
      ]
     },
     "metadata": {},
     "output_type": "display_data"
    },
    {
     "data": {
      "text/plain": [
       "<function __main__.plotFergulst>"
      ]
     },
     "execution_count": 4,
     "metadata": {},
     "output_type": "execute_result"
    }
   ],
   "source": [
    "widgets.interact(plotFergulst,N0=(1,10),mu=(0.01,1),k=(1,30))"
   ]
  },
  {
   "cell_type": "markdown",
   "metadata": {},
   "source": [
    "## Односекторна модель економічної динаміки Солоу \n",
    "\n",
    "### $$\\dot{k} = sak^{\\alpha} - (m + q)k$$\n",
    "\n",
    "$\\alpha$ – частка капіталу в продукції  \n",
    "m – норма витрат на амортизацію  \n",
    "a – рівень розвитку економіки  \n",
    "s – норма накопичення  \n",
    "q – темп приросту робочої сили  \n",
    "k0 – початковий капітал  "
   ]
  },
  {
   "cell_type": "code",
   "execution_count": 15,
   "metadata": {
    "ExecuteTime": {
     "end_time": "2018-04-02T12:09:44.667661Z",
     "start_time": "2018-04-02T12:09:44.656157Z"
    }
   },
   "outputs": [],
   "source": [
    "# parameters\n",
    "k0 = 0.001\n",
    "s = 0.2\n",
    "a = 2.5\n",
    "mu = 0.1\n",
    "q = 0.1\n",
    "alpha = 0.3"
   ]
  },
  {
   "cell_type": "code",
   "execution_count": 16,
   "metadata": {
    "ExecuteTime": {
     "end_time": "2018-04-02T12:09:45.603626Z",
     "start_time": "2018-04-02T12:09:45.230941Z"
    }
   },
   "outputs": [
    {
     "data": {
      "application/vnd.jupyter.widget-view+json": {
       "model_id": "1127f901cfc545f2a550d5f7b7cd593a",
       "version_major": 2,
       "version_minor": 0
      },
      "text/html": [
       "<p>Failed to display Jupyter Widget of type <code>interactive</code>.</p>\n",
       "<p>\n",
       "  If you're reading this message in the Jupyter Notebook or JupyterLab Notebook, it may mean\n",
       "  that the widgets JavaScript is still loading. If this message persists, it\n",
       "  likely means that the widgets JavaScript library is either not installed or\n",
       "  not enabled. See the <a href=\"https://ipywidgets.readthedocs.io/en/stable/user_install.html\">Jupyter\n",
       "  Widgets Documentation</a> for setup instructions.\n",
       "</p>\n",
       "<p>\n",
       "  If you're reading this message in another frontend (for example, a static\n",
       "  rendering on GitHub or <a href=\"https://nbviewer.jupyter.org/\">NBViewer</a>),\n",
       "  it may mean that your frontend doesn't currently support widgets.\n",
       "</p>\n"
      ],
      "text/plain": [
       "interactive(children=(FloatSlider(value=0.2505, description=u'k0', max=0.5, min=0.001), FloatSlider(value=0.55, description=u's', max=1.0, min=0.1), FloatSlider(value=3.75, description=u'a', max=5.0, min=2.5), FloatSlider(value=0.505, description=u'mu', max=1.0, min=0.01), FloatSlider(value=0.505, description=u'q', max=1.0, min=0.01), FloatSlider(value=0.5, description=u'alpha', max=1.0), Output()), _dom_classes=('widget-interact',))"
      ]
     },
     "metadata": {},
     "output_type": "display_data"
    },
    {
     "data": {
      "text/plain": [
       "<function __main__.plotSolou>"
      ]
     },
     "execution_count": 16,
     "metadata": {},
     "output_type": "execute_result"
    }
   ],
   "source": [
    "widgets.interact(plotSolou,k0=(0.001,0.5),s=(0.1,1),a=(2.5,5),mu=(0.01,1),q=(0.01,1),alpha=(0,1.))"
   ]
  },
  {
   "cell_type": "markdown",
   "metadata": {},
   "source": [
    "# 3. Рівняння вимушених коливань"
   ]
  },
  {
   "cell_type": "markdown",
   "metadata": {},
   "source": [
    "### $$\\ddot{x} + 2 \\delta \\dot{x} + \\omega_0^2 x = f_0 \\cos \\omega t$$\n",
    "\n",
    "$\\omega$ – коефіцієнт згасання  \n",
    "$w_0$ – власна частота коливань  \n",
    "$w$ – частота коливань зовнішньої сили   \n",
    "$f_0$ – амплітуда зовнішньої сили  "
   ]
  },
  {
   "cell_type": "code",
   "execution_count": 17,
   "metadata": {
    "ExecuteTime": {
     "end_time": "2018-04-02T12:18:35.180103Z",
     "start_time": "2018-04-02T12:18:35.168606Z"
    }
   },
   "outputs": [],
   "source": [
    "# parameters\n",
    "x0 = 1\n",
    "x0_prime = -0.5\n",
    "delta = 0.01\n",
    "omega0 = 0.7 * np.pi\n",
    "f0 = 1\n",
    "omega = np.sqrt(omega0**2 - 2 * delta**2)"
   ]
  },
  {
   "cell_type": "code",
   "execution_count": 25,
   "metadata": {
    "ExecuteTime": {
     "end_time": "2018-04-02T12:31:37.320950Z",
     "start_time": "2018-04-02T12:31:37.294423Z"
    }
   },
   "outputs": [],
   "source": [
    "def plotKol(x0, x0_prime, delta, omega0, f0):\n",
    "    def model(X, t, omega, delta, omega0, f0):\n",
    "        return [X[1], f0 * np.cos(omega * t) - omega0**2 * X[0] - 2 * delta * X[1]]\n",
    "\n",
    "    t = np.linspace(0, 80, 20000)\n",
    "    omega = np.sqrt(omega0**2 - 2 * delta**2)\n",
    "\n",
    "    x = odeint(model, [x0, x0_prime], t, args=(omega, delta, omega0, f0))\n",
    "\n",
    "    # plot results\n",
    "    plt.figure(figsize=(14, 8))\n",
    "    plt.plot(t, x[:, 0])\n",
    "    plt.xlabel('t')\n",
    "    plt.ylabel('x(t)')\n",
    "    plt.grid()\n",
    "    plt.xlim(0,60)\n",
    "    plt.show()\n",
    "    f,ax = plt.subplots(1, 1, figsize=(10,10))\n",
    "    ax.plot(x[:, 0], x[:, 1], c=(1,0.7,0.5))\n",
    "    ax.grid()\n",
    "    ax.set_xlim(-30,30)\n",
    "    ax.set_ylim(-30,30)"
   ]
  },
  {
   "cell_type": "code",
   "execution_count": 26,
   "metadata": {
    "ExecuteTime": {
     "end_time": "2018-04-02T12:31:38.462709Z",
     "start_time": "2018-04-02T12:31:37.842605Z"
    }
   },
   "outputs": [
    {
     "data": {
      "application/vnd.jupyter.widget-view+json": {
       "model_id": "6722d765c418454289e3124915629ae9",
       "version_major": 2,
       "version_minor": 0
      },
      "text/html": [
       "<p>Failed to display Jupyter Widget of type <code>interactive</code>.</p>\n",
       "<p>\n",
       "  If you're reading this message in the Jupyter Notebook or JupyterLab Notebook, it may mean\n",
       "  that the widgets JavaScript is still loading. If this message persists, it\n",
       "  likely means that the widgets JavaScript library is either not installed or\n",
       "  not enabled. See the <a href=\"https://ipywidgets.readthedocs.io/en/stable/user_install.html\">Jupyter\n",
       "  Widgets Documentation</a> for setup instructions.\n",
       "</p>\n",
       "<p>\n",
       "  If you're reading this message in another frontend (for example, a static\n",
       "  rendering on GitHub or <a href=\"https://nbviewer.jupyter.org/\">NBViewer</a>),\n",
       "  it may mean that your frontend doesn't currently support widgets.\n",
       "</p>\n"
      ],
      "text/plain": [
       "interactive(children=(IntSlider(value=5, description=u'x0', max=10), IntSlider(value=5, description=u'x0_prime', max=10), FloatSlider(value=0.0525, description=u'delta', max=0.1, min=0.005), FloatSlider(value=1.7278759594743862, description=u'omega0', max=3.141592653589793, min=0.3141592653589793), FloatSlider(value=0.5, description=u'f0', max=1.0), Output()), _dom_classes=('widget-interact',))"
      ]
     },
     "metadata": {},
     "output_type": "display_data"
    },
    {
     "data": {
      "text/plain": [
       "<function __main__.plotkol>"
      ]
     },
     "execution_count": 26,
     "metadata": {},
     "output_type": "execute_result"
    }
   ],
   "source": [
    "widgets.interact(plotKol, \n",
    "                 x0=(0, 10), \n",
    "                 x0_prime=(0, 10), \n",
    "                 delta=(0.005, 0.1), \n",
    "                 omega0=(0.1 * np.pi, 1 * np.pi), \n",
    "                 f0=(0, 1.))"
   ]
  },
  {
   "cell_type": "markdown",
   "metadata": {},
   "source": [
    "# 4. Рівняння коливань у системі «хижак-жертва»"
   ]
  },
  {
   "cell_type": "markdown",
   "metadata": {},
   "source": [
    "$$\\displaystyle\\left\\{ \\begin{array}{ll} \\dot{x} = (\\alpha_x y - \\beta_x)x \\space \\space | \\space x_0 \\\\ \\dot{y} = (\\alpha_y - \\beta_y x)y \\space \\space | \\space y_0 \\end{array} \\right. $$\n",
    "\n",
    "x – кількість «хижаків»  \n",
    "y – кількість «жертв»  \n",
    "$a_1$ – «норма споживання» жертв  \n",
    "$b_1$ – природна смертність хижаків  \n",
    "$a_2$ – народжуваність жертв  \n",
    "$b_2$ –«норма споживаності» жертв  \n",
    "$х_0$ – початкова кількість хижаків  \n",
    "$у_0$ – початкова кількість жертв  "
   ]
  },
  {
   "cell_type": "markdown",
   "metadata": {},
   "source": [
    "### Стаціонарна точка: $x^* = \\frac{\\alpha_y}{\\beta_y}; \\space y^* = \\frac{\\beta_x}{\\alpha_x}$"
   ]
  },
  {
   "cell_type": "code",
   "execution_count": 7,
   "metadata": {
    "ExecuteTime": {
     "end_time": "2018-04-02T11:58:13.531951Z",
     "start_time": "2018-04-02T11:58:13.516786Z"
    }
   },
   "outputs": [],
   "source": [
    "# parameters\n",
    "# x0 = 2000\n",
    "# y0 = 5000\n",
    "alpha_x = 0.0015\n",
    "beta_x = 10\n",
    "alpha_y = 100\n",
    "beta_y = 0.01\n",
    "y0 = beta_x / alpha_x + 100000\n",
    "x0 = alpha_y / beta_y + 1000"
   ]
  },
  {
   "cell_type": "code",
   "execution_count": 27,
   "metadata": {
    "ExecuteTime": {
     "end_time": "2018-04-02T12:39:36.719594Z",
     "start_time": "2018-04-02T12:39:36.695062Z"
    }
   },
   "outputs": [],
   "source": [
    "def plotVictim(x0, y0, alpha_x, beta_x, alpha_y, beta_y):\n",
    "    def model(X, t, alpha_x, beta_x, alpha_y, beta_y):\n",
    "        return [(alpha_x * X[1] - beta_x) * X[0], (alpha_y - beta_y * X[0]) * X[1]]\n",
    "\n",
    "    # time points\n",
    "    t = np.linspace(0, 1, 5000)\n",
    "\n",
    "    # solve ODE\n",
    "    x = odeint(model, [x0, y0], t, args=(alpha_x, beta_x, alpha_y, beta_y))\n",
    "\n",
    "    # plot results\n",
    "    plt.plot(t, x)\n",
    "    plt.xlabel('t')\n",
    "    plt.ylabel('x(t), y(t)')\n",
    "    plt.xlim(0,1)\n",
    "    plt.grid()\n",
    "    plt.plot(x[:, 0], x[:, 1])\n",
    "    plt.xlabel('x(t)')\n",
    "    plt.ylabel('y(t)')\n",
    "    plt.grid()"
   ]
  },
  {
   "cell_type": "code",
   "execution_count": 28,
   "metadata": {
    "ExecuteTime": {
     "end_time": "2018-04-02T12:39:37.606968Z",
     "start_time": "2018-04-02T12:39:37.283100Z"
    }
   },
   "outputs": [
    {
     "data": {
      "application/vnd.jupyter.widget-view+json": {
       "model_id": "a0cae1c9b6924ea4837385b05d93492d",
       "version_major": 2,
       "version_minor": 0
      },
      "text/html": [
       "<p>Failed to display Jupyter Widget of type <code>interactive</code>.</p>\n",
       "<p>\n",
       "  If you're reading this message in the Jupyter Notebook or JupyterLab Notebook, it may mean\n",
       "  that the widgets JavaScript is still loading. If this message persists, it\n",
       "  likely means that the widgets JavaScript library is either not installed or\n",
       "  not enabled. See the <a href=\"https://ipywidgets.readthedocs.io/en/stable/user_install.html\">Jupyter\n",
       "  Widgets Documentation</a> for setup instructions.\n",
       "</p>\n",
       "<p>\n",
       "  If you're reading this message in another frontend (for example, a static\n",
       "  rendering on GitHub or <a href=\"https://nbviewer.jupyter.org/\">NBViewer</a>),\n",
       "  it may mean that your frontend doesn't currently support widgets.\n",
       "</p>\n"
      ],
      "text/plain": [
       "interactive(children=(IntSlider(value=5, description=u'x0', max=10), IntSlider(value=5, description=u'y0', max=10), FloatSlider(value=0.0525, description=u'alpha_x', max=0.1, min=0.005), FloatSlider(value=0.0525, description=u'beta_x', max=0.1, min=0.005), FloatSlider(value=0.0525, description=u'alpha_y', max=0.1, min=0.005), FloatSlider(value=0.0525, description=u'beta_y', max=0.1, min=0.005), Output()), _dom_classes=('widget-interact',))"
      ]
     },
     "metadata": {},
     "output_type": "display_data"
    },
    {
     "data": {
      "text/plain": [
       "<function __main__.plotVictim>"
      ]
     },
     "execution_count": 28,
     "metadata": {},
     "output_type": "execute_result"
    }
   ],
   "source": [
    "widgets.interact(plotVictim, \n",
    "                 x0 = (0, 10), \n",
    "                 y0 = (0, 10), \n",
    "                 alpha_x = (0.005, 0.1), \n",
    "                 beta_x = (0.005, 0.1), \n",
    "                 alpha_y = (0.005, 0.1),\n",
    "                 beta_y = (0.005, 0.1))"
   ]
  },
  {
   "cell_type": "code",
   "execution_count": null,
   "metadata": {
    "collapsed": true
   },
   "outputs": [],
   "source": []
  },
  {
   "cell_type": "code",
   "execution_count": 9,
   "metadata": {
    "ExecuteTime": {
     "end_time": "2018-04-02T11:58:14.776954Z",
     "start_time": "2018-04-02T11:58:14.572871Z"
    },
    "scrolled": false
   },
   "outputs": [
    {
     "data": {
      "image/png": "[encoded data removed]",
      "text/plain": [
       "<matplotlib.figure.Figure at 0x7ff9ae7a22d0>"
      ]
     },
     "metadata": {},
     "output_type": "display_data"
    }
   ],
   "source": []
  },
  {
   "cell_type": "code",
   "execution_count": 10,
   "metadata": {
    "ExecuteTime": {
     "end_time": "2018-04-02T11:58:17.702942Z",
     "start_time": "2018-04-02T11:58:17.488526Z"
    },
    "scrolled": false
   },
   "outputs": [
    {
     "data": {
      "image/png": "[encoded data removed]",
      "text/plain": [
       "<matplotlib.figure.Figure at 0x7ff9ae77f890>"
      ]
     },
     "metadata": {},
     "output_type": "display_data"
    }
   ],
   "source": []
  }
 ],
 "metadata": {
  "hide_input": false,
  "kernelspec": {
   "display_name": "Python 3",
   "language": "python",
   "name": "python3"
  },
  "language_info": {
   "codemirror_mode": {
    "name": "ipython",
    "version": 2
   },
   "file_extension": ".py",
   "mimetype": "text/x-python",
   "name": "python",
   "nbconvert_exporter": "python",
   "pygments_lexer": "ipython2",
   "version": "2.7.12"
  },
  "varInspector": {
   "cols": {
    "lenName": 16,
    "lenType": 16,
    "lenVar": 40
   },
   "kernels_config": {
    "python": {
     "delete_cmd_postfix": "",
     "delete_cmd_prefix": "del ",
     "library": "var_list.py",
     "varRefreshCmd": "print(var_dic_list())"
    },
    "r": {
     "delete_cmd_postfix": ") ",
     "delete_cmd_prefix": "rm(",
     "library": "var_list.r",
     "varRefreshCmd": "cat(var_dic_list()) "
    }
   },
   "types_to_exclude": [
    "module",
    "function",
    "builtin_function_or_method",
    "instance",
    "_Feature"
   ],
   "window_display": false
  }
 },
 "nbformat": 4,
 "nbformat_minor": 2
}
